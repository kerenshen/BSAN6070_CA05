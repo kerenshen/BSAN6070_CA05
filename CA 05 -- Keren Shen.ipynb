{
 "cells": [
  {
   "cell_type": "markdown",
   "id": "437fa39d",
   "metadata": {},
   "source": [
    "# Data Source and Description"
   ]
  },
  {
   "cell_type": "code",
   "execution_count": 1,
   "id": "80d5632a",
   "metadata": {},
   "outputs": [],
   "source": [
    "# import packages\n",
    "import pandas as pd\n",
    "import numpy as np\n",
    "from sklearn.model_selection import train_test_split\n",
    "from sklearn import linear_model\n",
    "from sklearn.linear_model import LogisticRegression\n",
    "from sklearn import metrics\n",
    "import matplotlib.pyplot as plt\n",
    "from sklearn.model_selection import GridSearchCV\n",
    "from matplotlib import pyplot\n",
    "from sklearn.metrics import confusion_matrix\n",
    "from sklearn.metrics import classification_report\n",
    "from sklearn.metrics import roc_curve, auc"
   ]
  },
  {
   "cell_type": "code",
   "execution_count": 2,
   "id": "39494aeb",
   "metadata": {},
   "outputs": [],
   "source": [
    "# read data\n",
    "data = pd.read_csv('https://github.com/ArinB/CA05-B-Logistic-Regression/raw/master/cvd_data.csv')"
   ]
  },
  {
   "cell_type": "code",
   "execution_count": 3,
   "id": "83b4c537",
   "metadata": {},
   "outputs": [
    {
     "data": {
      "text/html": [
       "<div>\n",
       "<style scoped>\n",
       "    .dataframe tbody tr th:only-of-type {\n",
       "        vertical-align: middle;\n",
       "    }\n",
       "\n",
       "    .dataframe tbody tr th {\n",
       "        vertical-align: top;\n",
       "    }\n",
       "\n",
       "    .dataframe thead th {\n",
       "        text-align: right;\n",
       "    }\n",
       "</style>\n",
       "<table border=\"1\" class=\"dataframe\">\n",
       "  <thead>\n",
       "    <tr style=\"text-align: right;\">\n",
       "      <th></th>\n",
       "      <th>cvd_4types</th>\n",
       "      <th>age_s1</th>\n",
       "      <th>race</th>\n",
       "      <th>educat</th>\n",
       "      <th>mstat</th>\n",
       "      <th>hip</th>\n",
       "      <th>neck20</th>\n",
       "      <th>waist</th>\n",
       "      <th>av_weight_kg</th>\n",
       "      <th>cgpkyr</th>\n",
       "      <th>tea15</th>\n",
       "      <th>srhype</th>\n",
       "      <th>parrptdiab</th>\n",
       "      <th>bend25</th>\n",
       "      <th>happy25</th>\n",
       "      <th>tired25</th>\n",
       "      <th>hlthlm25</th>\n",
       "    </tr>\n",
       "  </thead>\n",
       "  <tbody>\n",
       "    <tr>\n",
       "      <th>0</th>\n",
       "      <td>0</td>\n",
       "      <td>54</td>\n",
       "      <td>1</td>\n",
       "      <td>2</td>\n",
       "      <td>1</td>\n",
       "      <td>110.0</td>\n",
       "      <td>40.0</td>\n",
       "      <td>108.0</td>\n",
       "      <td>87.5</td>\n",
       "      <td>34.0</td>\n",
       "      <td>0</td>\n",
       "      <td>1</td>\n",
       "      <td>0</td>\n",
       "      <td>1</td>\n",
       "      <td>2</td>\n",
       "      <td>3</td>\n",
       "      <td>4</td>\n",
       "    </tr>\n",
       "    <tr>\n",
       "      <th>1</th>\n",
       "      <td>0</td>\n",
       "      <td>56</td>\n",
       "      <td>3</td>\n",
       "      <td>2</td>\n",
       "      <td>1</td>\n",
       "      <td>113.0</td>\n",
       "      <td>34.0</td>\n",
       "      <td>107.0</td>\n",
       "      <td>83.5</td>\n",
       "      <td>0.0</td>\n",
       "      <td>0</td>\n",
       "      <td>0</td>\n",
       "      <td>0</td>\n",
       "      <td>2</td>\n",
       "      <td>2</td>\n",
       "      <td>1</td>\n",
       "      <td>3</td>\n",
       "    </tr>\n",
       "    <tr>\n",
       "      <th>2</th>\n",
       "      <td>0</td>\n",
       "      <td>54</td>\n",
       "      <td>1</td>\n",
       "      <td>3</td>\n",
       "      <td>1</td>\n",
       "      <td>110.0</td>\n",
       "      <td>44.5</td>\n",
       "      <td>105.0</td>\n",
       "      <td>86.2</td>\n",
       "      <td>49.5</td>\n",
       "      <td>0</td>\n",
       "      <td>0</td>\n",
       "      <td>0</td>\n",
       "      <td>3</td>\n",
       "      <td>2</td>\n",
       "      <td>6</td>\n",
       "      <td>4</td>\n",
       "    </tr>\n",
       "    <tr>\n",
       "      <th>3</th>\n",
       "      <td>0</td>\n",
       "      <td>54</td>\n",
       "      <td>1</td>\n",
       "      <td>3</td>\n",
       "      <td>1</td>\n",
       "      <td>129.0</td>\n",
       "      <td>42.5</td>\n",
       "      <td>110.0</td>\n",
       "      <td>89.1</td>\n",
       "      <td>0.0</td>\n",
       "      <td>0</td>\n",
       "      <td>0</td>\n",
       "      <td>0</td>\n",
       "      <td>3</td>\n",
       "      <td>2</td>\n",
       "      <td>1</td>\n",
       "      <td>3</td>\n",
       "    </tr>\n",
       "    <tr>\n",
       "      <th>4</th>\n",
       "      <td>0</td>\n",
       "      <td>51</td>\n",
       "      <td>3</td>\n",
       "      <td>2</td>\n",
       "      <td>1</td>\n",
       "      <td>122.0</td>\n",
       "      <td>37.0</td>\n",
       "      <td>113.0</td>\n",
       "      <td>81.3</td>\n",
       "      <td>0.0</td>\n",
       "      <td>0</td>\n",
       "      <td>0</td>\n",
       "      <td>0</td>\n",
       "      <td>2</td>\n",
       "      <td>1</td>\n",
       "      <td>1</td>\n",
       "      <td>2</td>\n",
       "    </tr>\n",
       "  </tbody>\n",
       "</table>\n",
       "</div>"
      ],
      "text/plain": [
       "   cvd_4types  age_s1  race  educat  mstat    hip  neck20  waist  \\\n",
       "0           0      54     1       2      1  110.0    40.0  108.0   \n",
       "1           0      56     3       2      1  113.0    34.0  107.0   \n",
       "2           0      54     1       3      1  110.0    44.5  105.0   \n",
       "3           0      54     1       3      1  129.0    42.5  110.0   \n",
       "4           0      51     3       2      1  122.0    37.0  113.0   \n",
       "\n",
       "   av_weight_kg  cgpkyr  tea15  srhype  parrptdiab  bend25  happy25  tired25  \\\n",
       "0          87.5    34.0      0       1           0       1        2        3   \n",
       "1          83.5     0.0      0       0           0       2        2        1   \n",
       "2          86.2    49.5      0       0           0       3        2        6   \n",
       "3          89.1     0.0      0       0           0       3        2        1   \n",
       "4          81.3     0.0      0       0           0       2        1        1   \n",
       "\n",
       "   hlthlm25  \n",
       "0         4  \n",
       "1         3  \n",
       "2         4  \n",
       "3         3  \n",
       "4         2  "
      ]
     },
     "metadata": {},
     "output_type": "display_data"
    },
    {
     "data": {
      "text/html": [
       "<div>\n",
       "<style scoped>\n",
       "    .dataframe tbody tr th:only-of-type {\n",
       "        vertical-align: middle;\n",
       "    }\n",
       "\n",
       "    .dataframe tbody tr th {\n",
       "        vertical-align: top;\n",
       "    }\n",
       "\n",
       "    .dataframe thead th {\n",
       "        text-align: right;\n",
       "    }\n",
       "</style>\n",
       "<table border=\"1\" class=\"dataframe\">\n",
       "  <thead>\n",
       "    <tr style=\"text-align: right;\">\n",
       "      <th></th>\n",
       "      <th>cvd_4types</th>\n",
       "      <th>age_s1</th>\n",
       "      <th>race</th>\n",
       "      <th>educat</th>\n",
       "      <th>mstat</th>\n",
       "      <th>hip</th>\n",
       "      <th>neck20</th>\n",
       "      <th>waist</th>\n",
       "      <th>av_weight_kg</th>\n",
       "      <th>cgpkyr</th>\n",
       "      <th>tea15</th>\n",
       "      <th>srhype</th>\n",
       "      <th>parrptdiab</th>\n",
       "      <th>bend25</th>\n",
       "      <th>happy25</th>\n",
       "      <th>tired25</th>\n",
       "      <th>hlthlm25</th>\n",
       "    </tr>\n",
       "  </thead>\n",
       "  <tbody>\n",
       "    <tr>\n",
       "      <th>count</th>\n",
       "      <td>3242.000000</td>\n",
       "      <td>3242.000000</td>\n",
       "      <td>3242.000000</td>\n",
       "      <td>3242.000000</td>\n",
       "      <td>3242.000000</td>\n",
       "      <td>3242.000000</td>\n",
       "      <td>3242.000000</td>\n",
       "      <td>3242.000000</td>\n",
       "      <td>3242.000000</td>\n",
       "      <td>3242.000000</td>\n",
       "      <td>3242.000000</td>\n",
       "      <td>3242.000000</td>\n",
       "      <td>3242.000000</td>\n",
       "      <td>3242.000000</td>\n",
       "      <td>3242.000000</td>\n",
       "      <td>3242.000000</td>\n",
       "      <td>3242.000000</td>\n",
       "    </tr>\n",
       "    <tr>\n",
       "      <th>mean</th>\n",
       "      <td>0.590068</td>\n",
       "      <td>64.828809</td>\n",
       "      <td>1.094695</td>\n",
       "      <td>2.326342</td>\n",
       "      <td>1.368600</td>\n",
       "      <td>105.404832</td>\n",
       "      <td>37.550719</td>\n",
       "      <td>97.209904</td>\n",
       "      <td>82.945928</td>\n",
       "      <td>12.904010</td>\n",
       "      <td>0.430907</td>\n",
       "      <td>0.327884</td>\n",
       "      <td>0.067551</td>\n",
       "      <td>2.473782</td>\n",
       "      <td>2.281308</td>\n",
       "      <td>4.292721</td>\n",
       "      <td>3.864898</td>\n",
       "    </tr>\n",
       "    <tr>\n",
       "      <th>std</th>\n",
       "      <td>0.491897</td>\n",
       "      <td>10.400496</td>\n",
       "      <td>0.358237</td>\n",
       "      <td>0.697934</td>\n",
       "      <td>0.933871</td>\n",
       "      <td>10.280402</td>\n",
       "      <td>4.101003</td>\n",
       "      <td>13.598060</td>\n",
       "      <td>7.849650</td>\n",
       "      <td>20.156736</td>\n",
       "      <td>1.242444</td>\n",
       "      <td>0.469515</td>\n",
       "      <td>0.251012</td>\n",
       "      <td>0.672158</td>\n",
       "      <td>0.951695</td>\n",
       "      <td>1.021099</td>\n",
       "      <td>0.614247</td>\n",
       "    </tr>\n",
       "    <tr>\n",
       "      <th>min</th>\n",
       "      <td>0.000000</td>\n",
       "      <td>39.000000</td>\n",
       "      <td>1.000000</td>\n",
       "      <td>1.000000</td>\n",
       "      <td>1.000000</td>\n",
       "      <td>44.000000</td>\n",
       "      <td>25.000000</td>\n",
       "      <td>67.000000</td>\n",
       "      <td>57.400000</td>\n",
       "      <td>0.000000</td>\n",
       "      <td>0.000000</td>\n",
       "      <td>0.000000</td>\n",
       "      <td>0.000000</td>\n",
       "      <td>1.000000</td>\n",
       "      <td>1.000000</td>\n",
       "      <td>1.000000</td>\n",
       "      <td>1.000000</td>\n",
       "    </tr>\n",
       "    <tr>\n",
       "      <th>25%</th>\n",
       "      <td>0.000000</td>\n",
       "      <td>57.000000</td>\n",
       "      <td>1.000000</td>\n",
       "      <td>2.000000</td>\n",
       "      <td>1.000000</td>\n",
       "      <td>99.000000</td>\n",
       "      <td>34.425000</td>\n",
       "      <td>88.000000</td>\n",
       "      <td>78.200000</td>\n",
       "      <td>0.000000</td>\n",
       "      <td>0.000000</td>\n",
       "      <td>0.000000</td>\n",
       "      <td>0.000000</td>\n",
       "      <td>2.000000</td>\n",
       "      <td>2.000000</td>\n",
       "      <td>4.000000</td>\n",
       "      <td>4.000000</td>\n",
       "    </tr>\n",
       "    <tr>\n",
       "      <th>50%</th>\n",
       "      <td>1.000000</td>\n",
       "      <td>65.000000</td>\n",
       "      <td>1.000000</td>\n",
       "      <td>2.000000</td>\n",
       "      <td>1.000000</td>\n",
       "      <td>104.000000</td>\n",
       "      <td>37.150000</td>\n",
       "      <td>97.000000</td>\n",
       "      <td>82.550000</td>\n",
       "      <td>0.300000</td>\n",
       "      <td>0.000000</td>\n",
       "      <td>0.000000</td>\n",
       "      <td>0.000000</td>\n",
       "      <td>3.000000</td>\n",
       "      <td>2.000000</td>\n",
       "      <td>4.000000</td>\n",
       "      <td>4.000000</td>\n",
       "    </tr>\n",
       "    <tr>\n",
       "      <th>75%</th>\n",
       "      <td>1.000000</td>\n",
       "      <td>73.000000</td>\n",
       "      <td>1.000000</td>\n",
       "      <td>3.000000</td>\n",
       "      <td>1.000000</td>\n",
       "      <td>110.000000</td>\n",
       "      <td>40.500000</td>\n",
       "      <td>106.000000</td>\n",
       "      <td>86.575000</td>\n",
       "      <td>20.475000</td>\n",
       "      <td>0.000000</td>\n",
       "      <td>1.000000</td>\n",
       "      <td>0.000000</td>\n",
       "      <td>3.000000</td>\n",
       "      <td>3.000000</td>\n",
       "      <td>5.000000</td>\n",
       "      <td>4.000000</td>\n",
       "    </tr>\n",
       "    <tr>\n",
       "      <th>max</th>\n",
       "      <td>1.000000</td>\n",
       "      <td>90.000000</td>\n",
       "      <td>3.000000</td>\n",
       "      <td>4.000000</td>\n",
       "      <td>8.000000</td>\n",
       "      <td>168.000000</td>\n",
       "      <td>53.000000</td>\n",
       "      <td>135.000000</td>\n",
       "      <td>136.700000</td>\n",
       "      <td>170.500000</td>\n",
       "      <td>30.000000</td>\n",
       "      <td>1.000000</td>\n",
       "      <td>1.000000</td>\n",
       "      <td>3.000000</td>\n",
       "      <td>6.000000</td>\n",
       "      <td>6.000000</td>\n",
       "      <td>5.000000</td>\n",
       "    </tr>\n",
       "  </tbody>\n",
       "</table>\n",
       "</div>"
      ],
      "text/plain": [
       "        cvd_4types       age_s1         race       educat        mstat  \\\n",
       "count  3242.000000  3242.000000  3242.000000  3242.000000  3242.000000   \n",
       "mean      0.590068    64.828809     1.094695     2.326342     1.368600   \n",
       "std       0.491897    10.400496     0.358237     0.697934     0.933871   \n",
       "min       0.000000    39.000000     1.000000     1.000000     1.000000   \n",
       "25%       0.000000    57.000000     1.000000     2.000000     1.000000   \n",
       "50%       1.000000    65.000000     1.000000     2.000000     1.000000   \n",
       "75%       1.000000    73.000000     1.000000     3.000000     1.000000   \n",
       "max       1.000000    90.000000     3.000000     4.000000     8.000000   \n",
       "\n",
       "               hip       neck20        waist  av_weight_kg       cgpkyr  \\\n",
       "count  3242.000000  3242.000000  3242.000000   3242.000000  3242.000000   \n",
       "mean    105.404832    37.550719    97.209904     82.945928    12.904010   \n",
       "std      10.280402     4.101003    13.598060      7.849650    20.156736   \n",
       "min      44.000000    25.000000    67.000000     57.400000     0.000000   \n",
       "25%      99.000000    34.425000    88.000000     78.200000     0.000000   \n",
       "50%     104.000000    37.150000    97.000000     82.550000     0.300000   \n",
       "75%     110.000000    40.500000   106.000000     86.575000    20.475000   \n",
       "max     168.000000    53.000000   135.000000    136.700000   170.500000   \n",
       "\n",
       "             tea15       srhype   parrptdiab       bend25      happy25  \\\n",
       "count  3242.000000  3242.000000  3242.000000  3242.000000  3242.000000   \n",
       "mean      0.430907     0.327884     0.067551     2.473782     2.281308   \n",
       "std       1.242444     0.469515     0.251012     0.672158     0.951695   \n",
       "min       0.000000     0.000000     0.000000     1.000000     1.000000   \n",
       "25%       0.000000     0.000000     0.000000     2.000000     2.000000   \n",
       "50%       0.000000     0.000000     0.000000     3.000000     2.000000   \n",
       "75%       0.000000     1.000000     0.000000     3.000000     3.000000   \n",
       "max      30.000000     1.000000     1.000000     3.000000     6.000000   \n",
       "\n",
       "           tired25     hlthlm25  \n",
       "count  3242.000000  3242.000000  \n",
       "mean      4.292721     3.864898  \n",
       "std       1.021099     0.614247  \n",
       "min       1.000000     1.000000  \n",
       "25%       4.000000     4.000000  \n",
       "50%       4.000000     4.000000  \n",
       "75%       5.000000     4.000000  \n",
       "max       6.000000     5.000000  "
      ]
     },
     "metadata": {},
     "output_type": "display_data"
    },
    {
     "name": "stdout",
     "output_type": "stream",
     "text": [
      "<class 'pandas.core.frame.DataFrame'>\n",
      "RangeIndex: 3242 entries, 0 to 3241\n",
      "Data columns (total 17 columns):\n",
      " #   Column        Non-Null Count  Dtype  \n",
      "---  ------        --------------  -----  \n",
      " 0   cvd_4types    3242 non-null   int64  \n",
      " 1   age_s1        3242 non-null   int64  \n",
      " 2   race          3242 non-null   int64  \n",
      " 3   educat        3242 non-null   int64  \n",
      " 4   mstat         3242 non-null   int64  \n",
      " 5   hip           3242 non-null   float64\n",
      " 6   neck20        3242 non-null   float64\n",
      " 7   waist         3242 non-null   float64\n",
      " 8   av_weight_kg  3242 non-null   float64\n",
      " 9   cgpkyr        3242 non-null   float64\n",
      " 10  tea15         3242 non-null   int64  \n",
      " 11  srhype        3242 non-null   int64  \n",
      " 12  parrptdiab    3242 non-null   int64  \n",
      " 13  bend25        3242 non-null   int64  \n",
      " 14  happy25       3242 non-null   int64  \n",
      " 15  tired25       3242 non-null   int64  \n",
      " 16  hlthlm25      3242 non-null   int64  \n",
      "dtypes: float64(5), int64(12)\n",
      "memory usage: 430.7 KB\n"
     ]
    },
    {
     "data": {
      "text/plain": [
       "None"
      ]
     },
     "metadata": {},
     "output_type": "display_data"
    },
    {
     "data": {
      "text/plain": [
       "cvd_4types      0\n",
       "age_s1          0\n",
       "race            0\n",
       "educat          0\n",
       "mstat           0\n",
       "hip             0\n",
       "neck20          0\n",
       "waist           0\n",
       "av_weight_kg    0\n",
       "cgpkyr          0\n",
       "tea15           0\n",
       "srhype          0\n",
       "parrptdiab      0\n",
       "bend25          0\n",
       "happy25         0\n",
       "tired25         0\n",
       "hlthlm25        0\n",
       "dtype: int64"
      ]
     },
     "metadata": {},
     "output_type": "display_data"
    }
   ],
   "source": [
    "# display data\n",
    "display(data.head())\n",
    "display(data.describe())\n",
    "display(data.info())\n",
    "display(data.isnull().sum())"
   ]
  },
  {
   "cell_type": "code",
   "execution_count": 4,
   "id": "9d7cc808",
   "metadata": {},
   "outputs": [
    {
     "name": "stdout",
     "output_type": "stream",
     "text": [
      "Accuracy: 0.6885919835560124\n"
     ]
    },
    {
     "name": "stderr",
     "output_type": "stream",
     "text": [
      "/Users/karen/opt/anaconda3/lib/python3.8/site-packages/sklearn/linear_model/_logistic.py:763: ConvergenceWarning: lbfgs failed to converge (status=1):\n",
      "STOP: TOTAL NO. of ITERATIONS REACHED LIMIT.\n",
      "\n",
      "Increase the number of iterations (max_iter) or scale the data as shown in:\n",
      "    https://scikit-learn.org/stable/modules/preprocessing.html\n",
      "Please also refer to the documentation for alternative solver options:\n",
      "    https://scikit-learn.org/stable/modules/linear_model.html#logistic-regression\n",
      "  n_iter_i = _check_optimize_result(\n"
     ]
    }
   ],
   "source": [
    "#feature selection\n",
    "#split the dataset into features variables and target variables\n",
    "feature_cols = ['age_s1','race', 'educat','mstat',\n",
    "                'hip','neck20','waist','av_weight_kg','cgpkyr','tea15','srhype','parrptdiab',\n",
    "               'bend25','happy25','tired25','hlthlm25']\n",
    "X = data[feature_cols]#feature variables\n",
    "Y = data.cvd_4types #target variables\n",
    "\n",
    "# split the data\n",
    "# split the dataset into training set and testing set\n",
    "# 70% training and 30% testing\n",
    "X_train, X_test, Y_train, Y_test = train_test_split(X,Y,test_size = 0.3,\n",
    "                                                    random_state = 1) \n",
    "#build the logistic regression model\n",
    "logreg = LogisticRegression()\n",
    "#fit the model with data\n",
    "fitted_model = logreg.fit(X_train, Y_train)\n",
    "#prediction\n",
    "y_pred = logreg.predict(X_test)\n",
    "print(\"Accuracy:\", metrics.accuracy_score(Y_test, y_pred))"
   ]
  },
  {
   "cell_type": "markdown",
   "id": "deadb9c6",
   "metadata": {},
   "source": [
    "# Part 2. Display the Feature Importance of all the features sorted in the order of decreasing influence on the CVD Risk"
   ]
  },
  {
   "cell_type": "code",
   "execution_count": 5,
   "id": "97ce28ea",
   "metadata": {},
   "outputs": [
    {
     "name": "stdout",
     "output_type": "stream",
     "text": [
      "waist           0.926054\n",
      "educat          0.274587\n",
      "bend25          0.136471\n",
      "age_s1          0.112417\n",
      "tired25         0.098308\n",
      "srhype          0.078311\n",
      "cgpkyr          0.036297\n",
      "parrptdiab      0.033801\n",
      "happy25        -0.047209\n",
      "neck20         -0.059118\n",
      "tea15          -0.064836\n",
      "mstat          -0.093537\n",
      "av_weight_kg   -0.160377\n",
      "race           -0.175330\n",
      "hlthlm25       -0.301618\n",
      "hip            -0.391657\n",
      "dtype: float64\n"
     ]
    },
    {
     "data": {
      "text/plain": [
       "Text(0.5, 1.0, 'Importance of all the features')"
      ]
     },
     "execution_count": 5,
     "metadata": {},
     "output_type": "execute_result"
    },
    {
     "data": {
      "image/png": "[encoded data removed]",
      "text/plain": [
       "<Figure size 576x576 with 1 Axes>"
      ]
     },
     "metadata": {
      "needs_background": "light"
     },
     "output_type": "display_data"
    }
   ],
   "source": [
    "#normalization\n",
    "features = np.std(X_train,0)*logreg.coef_[0]\n",
    "coef_logreg = pd.Series(np.std(X_train,0)*logreg.coef_[0].flatten(),index = X_test.columns,name = 'Var') \n",
    "print(features.sort_values(ascending=False))\n",
    "plt.figure(figsize=(8,8))\n",
    "coef_logreg.sort_values().plot(kind='barh')\n",
    "plt.title(\"Importance of all the features\")"
   ]
  },
  {
   "cell_type": "markdown",
   "id": "753be9b1",
   "metadata": {},
   "source": [
    "# Part3. Evaluate the performance of your model, explain the performance and draw a meaningful conclusion"
   ]
  },
  {
   "cell_type": "code",
   "execution_count": 6,
   "id": "34785ef9",
   "metadata": {},
   "outputs": [
    {
     "data": {
      "text/plain": [
       "array([[182, 212],\n",
       "       [ 91, 488]])"
      ]
     },
     "execution_count": 6,
     "metadata": {},
     "output_type": "execute_result"
    }
   ],
   "source": [
    "logreg_matric = metrics.confusion_matrix(Y_test,y_pred)\n",
    "logreg_matric"
   ]
  },
  {
   "cell_type": "code",
   "execution_count": 7,
   "id": "88536b02",
   "metadata": {},
   "outputs": [
    {
     "name": "stdout",
     "output_type": "stream",
     "text": [
      "[[182 212]\n",
      " [ 91 488]]\n"
     ]
    },
    {
     "data": {
      "text/plain": [
       "None"
      ]
     },
     "metadata": {},
     "output_type": "display_data"
    },
    {
     "name": "stdout",
     "output_type": "stream",
     "text": [
      "              precision    recall  f1-score   support\n",
      "\n",
      "           0       0.67      0.46      0.55       394\n",
      "           1       0.70      0.84      0.76       579\n",
      "\n",
      "    accuracy                           0.69       973\n",
      "   macro avg       0.68      0.65      0.65       973\n",
      "weighted avg       0.68      0.69      0.68       973\n",
      "\n"
     ]
    },
    {
     "data": {
      "text/plain": [
       "None"
      ]
     },
     "metadata": {},
     "output_type": "display_data"
    },
    {
     "name": "stdout",
     "output_type": "stream",
     "text": [
      "Accuracy: 0.6885919835560124\n"
     ]
    },
    {
     "data": {
      "text/plain": [
       "None"
      ]
     },
     "metadata": {},
     "output_type": "display_data"
    }
   ],
   "source": [
    "display(print(confusion_matrix(Y_test, y_pred))) #confusion matrix\n",
    "display(print(classification_report(Y_test, y_pred))) #show the precision, recall, f1-score, and support\n",
    "display(print(\"Accuracy:\", metrics.accuracy_score(Y_test, y_pred))) #accuracy"
   ]
  },
  {
   "cell_type": "code",
   "execution_count": 8,
   "id": "0ffbbbd5",
   "metadata": {},
   "outputs": [
    {
     "data": {
      "image/png": "[encoded data removed]",
      "text/plain": [
       "<Figure size 432x288 with 1 Axes>"
      ]
     },
     "metadata": {
      "needs_background": "light"
     },
     "output_type": "display_data"
    },
    {
     "data": {
      "image/png": "[encoded data removed]",
      "text/plain": [
       "<Figure size 432x288 with 1 Axes>"
      ]
     },
     "metadata": {
      "needs_background": "light"
     },
     "output_type": "display_data"
    },
    {
     "ename": "NameError",
     "evalue": "name 'false_positive_rate' is not defined",
     "output_type": "error",
     "traceback": [
      "\u001b[0;31m---------------------------------------------------------------------------\u001b[0m",
      "\u001b[0;31mNameError\u001b[0m                                 Traceback (most recent call last)",
      "\u001b[0;32m<ipython-input-8-4257b92cf3da>\u001b[0m in \u001b[0;36m<module>\u001b[0;34m\u001b[0m\n\u001b[1;32m     25\u001b[0m \u001b[0mplt\u001b[0m\u001b[0;34m.\u001b[0m\u001b[0mshow\u001b[0m\u001b[0;34m(\u001b[0m\u001b[0;34m)\u001b[0m\u001b[0;34m\u001b[0m\u001b[0;34m\u001b[0m\u001b[0m\n\u001b[1;32m     26\u001b[0m \u001b[0;34m\u001b[0m\u001b[0m\n\u001b[0;32m---> 27\u001b[0;31m \u001b[0mdisplay\u001b[0m\u001b[0;34m(\u001b[0m\u001b[0mprint\u001b[0m\u001b[0;34m(\u001b[0m\u001b[0;34m\"auc is\"\u001b[0m\u001b[0;34m,\u001b[0m \u001b[0mauc\u001b[0m\u001b[0;34m(\u001b[0m\u001b[0mfalse_positive_rate\u001b[0m\u001b[0;34m,\u001b[0m \u001b[0mtrue_positive_rate\u001b[0m\u001b[0;34m)\u001b[0m\u001b[0;34m)\u001b[0m\u001b[0;34m)\u001b[0m\u001b[0;34m\u001b[0m\u001b[0;34m\u001b[0m\u001b[0m\n\u001b[0m",
      "\u001b[0;31mNameError\u001b[0m: name 'false_positive_rate' is not defined"
     ]
    }
   ],
   "source": [
    "fpr, tpr, threshold = roc_curve(Y_test, y_pred)\n",
    "\n",
    "rocauc = auc(fpr, tpr)\n",
    "plt.plot(fpr, tpr, 'b', label='AUC = %0.2f' % rocauc)\n",
    "plt.legend(loc='lower right')\n",
    "plt.plot([0, 1], [0, 1], 'r--')\n",
    "plt.xlim([0, 1])\n",
    "plt.ylim([0, 1])\n",
    "plt.ylabel('True Positive Rate')\n",
    "plt.xlabel('False Positive Rate')\n",
    "plt.title('Receiver Operating Characteristic Curve')\n",
    "plt.show()\n",
    "        \n",
    "ks_value = max(abs(fpr-tpr))\n",
    "    #Graphing ROC curve\n",
    "plt.plot(fpr, tpr)\n",
    "plt.plot([0,1], [0,1], linestyle='--')\n",
    "    #Graphing KS\n",
    "x = np.argwhere(abs(fpr-tpr) == ks_value)[0, 0]\n",
    "plt.plot([fpr[x], fpr[x]], [fpr[x], tpr[x]], linewidth=4, color='r')\n",
    "plt.text(fpr[x]+0.01,tpr[x]-0.2, 'ks='+str(format(ks_value,'0.3f')),color= 'black')\n",
    "plt.xlabel('False Positive Rate', fontsize=20)\n",
    "plt.ylabel('True Positive Rate', fontsize=20)\n",
    "plt.title('Receiver Operating Characteristic Curve')\n",
    "plt.show()\n",
    "\n",
    "display(print(\"auc is\", auc(false_positive_rate, true_positive_rate)))"
   ]
  }
 ],
 "metadata": {
  "kernelspec": {
   "display_name": "Python 3",
   "language": "python",
   "name": "python3"
  },
  "language_info": {
   "codemirror_mode": {
    "name": "ipython",
    "version": 3
   },
   "file_extension": ".py",
   "mimetype": "text/x-python",
   "name": "python",
   "nbconvert_exporter": "python",
   "pygments_lexer": "ipython3",
   "version": "3.8.8"
  }
 },
 "nbformat": 4,
 "nbformat_minor": 5
}
